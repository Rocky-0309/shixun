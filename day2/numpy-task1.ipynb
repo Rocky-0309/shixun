{
 "cells": [
  {
   "cell_type": "code",
   "execution_count": 8,
   "id": "6ffbb718-eedf-42fc-a1da-98d6ca56772e",
   "metadata": {},
   "outputs": [
    {
     "name": "stdout",
     "output_type": "stream",
     "text": [
      "1. 数组属性:\n",
      "数组形状: (3, 4)\n",
      "数组维度: 2\n",
      "数据类型: int32\n",
      "\n",
      "2. 乘以2后的数组:\n",
      "[[ 2  4  6  8]\n",
      " [10 12 14 16]\n",
      " [18 20 22 24]]\n",
      "\n",
      "3. 重塑为4x3的数组:\n",
      "[[ 1  2  3]\n",
      " [ 4  5  6]\n",
      " [ 7  8  9]\n",
      " [10 11 12]]\n"
     ]
    }
   ],
   "source": [
    "import numpy as np\n",
    "\n",
    "# 创建 3x4 的二维数组\n",
    "arr = np.array([[1, 2, 3, 4],\n",
    "                [5, 6, 7, 8],\n",
    "                [9, 10, 11, 12]])\n",
    "\n",
    "# 1. 打印数组属性\n",
    "print(\"1. 数组属性:\")\n",
    "print(\"数组形状:\", arr.shape)        # (3, 4)\n",
    "print(\"数组维度:\", arr.ndim)         # 2\n",
    "print(\"数据类型:\", arr.dtype)        # int32 或 int64（取决于系统）\n",
    "\n",
    "# 2. 数组元素乘以2\n",
    "arr_multiplied = arr * 2\n",
    "print(\"\\n2. 乘以2后的数组:\")\n",
    "print(arr_multiplied)\n",
    "\n",
    "# 3. 重塑为 4x3 形状\n",
    "arr_reshaped = arr.reshape(4, 3)\n",
    "print(\"\\n3. 重塑为4x3的数组:\")\n",
    "print(arr_reshaped)"
   ]
  },
  {
   "cell_type": "code",
   "execution_count": 9,
   "id": "af62ae19-f40d-44d4-9482-3e4a84ce628c",
   "metadata": {},
   "outputs": [
    {
     "name": "stdout",
     "output_type": "stream",
     "text": [
      "1. 第2行所有元素: [5 6 7 8]\n",
      "2. 第3列所有元素: [ 3  7 11 15]\n",
      "3. 子数组:\n",
      "[[2 3]\n",
      " [6 7]]\n",
      "4. 修改后的数组:\n",
      "[[ 1  2  3  4]\n",
      " [ 5  6  7  8]\n",
      " [ 9 10  0  0]\n",
      " [ 0  0  0  0]]\n"
     ]
    }
   ],
   "source": [
    "import numpy as np\n",
    "\n",
    "# 创建 4x4 数组\n",
    "array = np.array([[1, 2, 3, 4],\n",
    "                  [5, 6, 7, 8],\n",
    "                  [9, 10, 11, 12],\n",
    "                  [13, 14, 15, 16]])\n",
    "\n",
    "# 1. 提取第2行所有元素（索引从0开始，所以是索引1）\n",
    "row_2 = array[1, :]\n",
    "print(\"1. 第2行所有元素:\", row_2)  # [5, 6, 7, 8]\n",
    "\n",
    "# 2. 提取第3列所有元素（索引2）\n",
    "col_3 = array[:, 2]\n",
    "print(\"2. 第3列所有元素:\", col_3)  # [3, 7, 11, 15]\n",
    "\n",
    "# 3. 提取子数组（第1、2行和第2、3列）\n",
    "sub_array = array[0:2, 1:3]\n",
    "print(\"3. 子数组:\")\n",
    "print(sub_array)  # [[2, 3], [6, 7]]\n",
    "\n",
    "# 4. 将大于10的元素替换为0\n",
    "modified_array = array.copy()  # 创建副本，避免修改原始数组\n",
    "modified_array[modified_array > 10] = 0\n",
    "print(\"4. 修改后的数组:\")\n",
    "print(modified_array)"
   ]
  },
  {
   "cell_type": "code",
   "execution_count": 11,
   "id": "b258b3d7-f39b-47f1-828f-42cecbe572d9",
   "metadata": {},
   "outputs": [
    {
     "name": "stdout",
     "output_type": "stream",
     "text": [
      "数组A:\n",
      "[[1 2]\n",
      " [3 4]\n",
      " [5 6]]\n",
      "\n",
      "数组B:\n",
      "[10 20]\n",
      "\n",
      "1. A + B:\n",
      "[[11 22]\n",
      " [13 24]\n",
      " [15 26]]\n",
      "\n",
      "2. A * B:\n",
      "[[ 10  40]\n",
      " [ 30  80]\n",
      " [ 50 120]]\n",
      "\n",
      "3. A的每一行与B的点积:\n",
      "[ 50 110 170]\n"
     ]
    }
   ],
   "source": [
    "import numpy as np\n",
    "\n",
    "# 创建数组 A (3x2)\n",
    "A = np.array([[1, 2],\n",
    "              [3, 4],\n",
    "              [5, 6]])\n",
    "\n",
    "# 创建数组 B (1x2)\n",
    "B = np.array([10, 20])\n",
    "\n",
    "print(\"数组A:\")\n",
    "print(A)\n",
    "print(\"\\n数组B:\")\n",
    "print(B)\n",
    "\n",
    "# 1. 计算 A 和 B 的逐元素相加\n",
    "sum_result = A + B\n",
    "print(\"\\n1. A + B:\")\n",
    "print(sum_result)\n",
    "\n",
    "# 2. 计算 A 和 B 的逐元素相乘\n",
    "multiply_result = A * B\n",
    "print(\"\\n2. A * B:\")\n",
    "print(multiply_result)\n",
    "\n",
    "# 3. 计算 A 的每一行与 B 的点积\n",
    "dot_products = np.dot(A, B)\n",
    "print(\"\\n3. A的每一行与B的点积:\")\n",
    "print(dot_products)"
   ]
  },
  {
   "cell_type": "code",
   "execution_count": null,
   "id": "f0b1b01b-10f1-424a-b3b1-c64a52cb2eac",
   "metadata": {},
   "outputs": [],
   "source": []
  }
 ],
 "metadata": {
  "kernelspec": {
   "display_name": "Python 3 (ipykernel)",
   "language": "python",
   "name": "python3"
  },
  "language_info": {
   "codemirror_mode": {
    "name": "ipython",
    "version": 3
   },
   "file_extension": ".py",
   "mimetype": "text/x-python",
   "name": "python",
   "nbconvert_exporter": "python",
   "pygments_lexer": "ipython3",
   "version": "3.12.3"
  }
 },
 "nbformat": 4,
 "nbformat_minor": 5
}
